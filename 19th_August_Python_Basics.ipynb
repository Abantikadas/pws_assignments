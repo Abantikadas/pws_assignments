{
 "cells": [
  {
   "cell_type": "markdown",
   "id": "775f3dd0-73c6-4227-863f-ee7751b3c8e8",
   "metadata": {},
   "source": [
    "Python Basics Variable\n",
    "1. Declare two variables, `x` and `y`, and assign them integer values. Swap the values of these variables without using any temporary variable."
   ]
  },
  {
   "cell_type": "code",
   "execution_count": 1,
   "id": "d35c1044-bf59-4923-9c6b-4d38f799b42e",
   "metadata": {},
   "outputs": [
    {
     "name": "stdout",
     "output_type": "stream",
     "text": [
      "Before swapping: \n",
      "Value of x :  5  and y :  7\n",
      "After swapping: \n",
      "Value of x :  7  and y :  5\n"
     ]
    }
   ],
   "source": [
    "x = 5\n",
    "y = 7\n",
    "\n",
    "print (\"Before swapping: \")\n",
    "print(\"Value of x : \", x, \" and y : \", y)\n",
    "\n",
    "x,y = y,x\n",
    "\n",
    "print (\"After swapping: \")\n",
    "print(\"Value of x : \", x, \" and y : \", y)"
   ]
  },
  {
   "cell_type": "markdown",
   "id": "4840f153-2ac6-4046-9bc2-dc7c9ac92573",
   "metadata": {},
   "source": [
    "2. Create a program that calculates the area of a rectangle. Take the length and width as inputs from the user and store them in variables. Calculate and display the area."
   ]
  },
  {
   "cell_type": "code",
   "execution_count": 2,
   "id": "74ba945d-334f-4968-a14c-65295570a12c",
   "metadata": {},
   "outputs": [
    {
     "name": "stdout",
     "output_type": "stream",
     "text": [
      "Give the Hight of the triangle\n"
     ]
    },
    {
     "name": "stdin",
     "output_type": "stream",
     "text": [
      " 4\n"
     ]
    },
    {
     "name": "stdout",
     "output_type": "stream",
     "text": [
      "Give the Base of the triangle\n"
     ]
    },
    {
     "name": "stdin",
     "output_type": "stream",
     "text": [
      " 4\n"
     ]
    },
    {
     "name": "stdout",
     "output_type": "stream",
     "text": [
      "Area of triangle is : 8.0\n"
     ]
    }
   ],
   "source": [
    "#Area of Tringle\n",
    "#Taking input hight as h and base as b\n",
    "print(\"Give the Hight of the triangle\")\n",
    "h=int(input())\n",
    "print(\"Give the Base of the triangle\")\n",
    "b=int(input())\n",
    "#formula of the area of tringle\n",
    "area_of_triangle=(h*b)/2\n",
    "#output\n",
    "print(\"Area of triangle is :\", area_of_triangle)"
   ]
  },
  {
   "cell_type": "markdown",
   "id": "92edec37-e5c4-45d8-864e-5b1b1c1478fe",
   "metadata": {},
   "source": [
    "3. Write a Python program that converts temperatures from Celsius to Fahrenheit. Take the temperature in Celsius as input, store it in a variable, convert it to Fahrenheit, and display the result."
   ]
  },
  {
   "cell_type": "code",
   "execution_count": 3,
   "id": "7c202fe4-5063-468b-81bb-e3669635091f",
   "metadata": {},
   "outputs": [
    {
     "name": "stdout",
     "output_type": "stream",
     "text": [
      "Give the temperture as Celsius\n"
     ]
    },
    {
     "name": "stdin",
     "output_type": "stream",
     "text": [
      " 34\n"
     ]
    },
    {
     "name": "stdout",
     "output_type": "stream",
     "text": [
      "Output is:\n",
      "93.2 *F\n"
     ]
    }
   ],
   "source": [
    "#Celsius to Farenhite convarter\n",
    "print(\"Give the temperture as Celsius\")\n",
    "Celsius=int(input())\n",
    "#formula of the celsius to farenhite contvarter\n",
    "Farenhite=  ( Celsius  * 9/5) + 32\n",
    "print(\"Output is:\")\n",
    "print(Farenhite,\"*F\")"
   ]
  },
  {
   "cell_type": "markdown",
   "id": "b4568022-3eb2-4722-9af4-a74fbe405b8b",
   "metadata": {},
   "source": [
    "String Based Questions\n",
    "1. Write a Python program that takes a string as input and prints the length of the string."
   ]
  },
  {
   "cell_type": "code",
   "execution_count": 4,
   "id": "5f7694c2-b472-4d88-affe-54e5899d9f09",
   "metadata": {},
   "outputs": [
    {
     "name": "stdout",
     "output_type": "stream",
     "text": [
      "Give any string\n"
     ]
    },
    {
     "name": "stdin",
     "output_type": "stream",
     "text": [
      " abhi\n"
     ]
    },
    {
     "name": "stdout",
     "output_type": "stream",
     "text": [
      "4\n"
     ]
    }
   ],
   "source": [
    "#Take a atring as a input and print the length of the string\n",
    "print(\"Give any string\")\n",
    "#len using len() function get length of the string\n",
    "Str1=str(len(input()))\n",
    "print(Str1)"
   ]
  },
  {
   "cell_type": "markdown",
   "id": "b6956e17-520e-417c-9c35-bc5f91e826fb",
   "metadata": {},
   "source": [
    "2. Create a program that takes a sentence from the user and counts the number of vowels (a, e, i, o, u) in the string.\n"
   ]
  },
  {
   "cell_type": "code",
   "execution_count": 5,
   "id": "068f16b3-305e-4503-902c-2a03b179a28c",
   "metadata": {},
   "outputs": [
    {
     "name": "stdout",
     "output_type": "stream",
     "text": [
      "Give the sentence\n"
     ]
    },
    {
     "name": "stdin",
     "output_type": "stream",
     "text": [
      " asdfg\n"
     ]
    },
    {
     "name": "stdout",
     "output_type": "stream",
     "text": [
      "Number of vowels in string  1\n",
      "Number of conconent in string  4\n"
     ]
    }
   ],
   "source": [
    "#count vowels and conconent in a sentence\n",
    "print(\"Give the sentence\")\n",
    "Str1=str(input())\n",
    "Str1=Str1.lower()\n",
    "#declearing vowels\n",
    "vowels=\"aeiou\"\n",
    "#take 2 empty variable for count the number or vowels and conconent\n",
    "vowelscount=0\n",
    "concount=0\n",
    "\n",
    "for i in Str1:\n",
    "  if i in vowels:\n",
    "    vowelscount+=1\n",
    "  else:\n",
    "    concount+=1\n",
    "print(\"Number of vowels in string \",vowelscount)\n",
    "print(\"Number of conconent in string \",concount)"
   ]
  },
  {
   "cell_type": "markdown",
   "id": "43a2febb-422d-43c6-86ec-34d50c1114a5",
   "metadata": {},
   "source": [
    "3. Given a string, reverse the order of characters using string slicing and print the reversed string."
   ]
  },
  {
   "cell_type": "code",
   "execution_count": 6,
   "id": "91bbac3b-0854-4e5d-a211-88221c29cdfc",
   "metadata": {},
   "outputs": [
    {
     "name": "stdout",
     "output_type": "stream",
     "text": [
      "Give the string\n"
     ]
    },
    {
     "name": "stdin",
     "output_type": "stream",
     "text": [
      " abantika\n"
     ]
    },
    {
     "data": {
      "text/plain": [
       "'akitnaba'"
      ]
     },
     "execution_count": 6,
     "metadata": {},
     "output_type": "execute_result"
    }
   ],
   "source": [
    "#reverse a string\n",
    "print(\"Give the string\")\n",
    "Str1=str(input())\n",
    "#using slicing reverse teh string\n",
    "reverse=Str1[::-1]\n",
    "print(reverse)"
   ]
  },
  {
   "cell_type": "markdown",
   "id": "f7193d3c-4b8e-4f8f-97cb-b20190ba81e0",
   "metadata": {},
   "source": [
    "4. Write a program that takes a string as input and checks if it is a palindrome (reads the same forwards and backwards)."
   ]
  },
  {
   "cell_type": "code",
   "execution_count": 7,
   "id": "4b740f58-b506-4de5-9816-98925808460d",
   "metadata": {},
   "outputs": [
    {
     "name": "stdout",
     "output_type": "stream",
     "text": [
      "Give the string\n"
     ]
    },
    {
     "name": "stdin",
     "output_type": "stream",
     "text": [
      " asdfgfdsa\n"
     ]
    },
    {
     "name": "stdout",
     "output_type": "stream",
     "text": [
      "asdfgfdsa\n",
      "string is palindrome\n"
     ]
    }
   ],
   "source": [
    "#chek string is palindrome or not\n",
    "print(\"Give the string\")\n",
    "Str1=str(input())\n",
    "reverse=Str1[::-1]\n",
    "print(reverse)\n",
    "#check input and output are same or not\n",
    "if(Str1==reverse):\n",
    "  print(\"string is palindrome\")\n",
    "else:\n",
    "  print(\"string is not palindrome\")"
   ]
  },
  {
   "cell_type": "markdown",
   "id": "f0539caa-5d50-4199-a8b4-d9f35edcefe3",
   "metadata": {},
   "source": [
    "5. Create a program that takes a string as input and removes all the spaces from it. Print the modified string without spaces."
   ]
  },
  {
   "cell_type": "code",
   "execution_count": 9,
   "id": "5b954b49-5b65-45e7-b024-166e60f373f1",
   "metadata": {},
   "outputs": [
    {
     "name": "stdout",
     "output_type": "stream",
     "text": [
      "Give the string\n"
     ]
    },
    {
     "name": "stdin",
     "output_type": "stream",
     "text": [
      " a d fkjsiod    sjc\n"
     ]
    },
    {
     "name": "stdout",
     "output_type": "stream",
     "text": [
      "adfkjsiodsjc\n"
     ]
    }
   ],
   "source": [
    "#remove spaces from the string\n",
    "print(\"Give the string\")\n",
    "Str1=str(input())\n",
    "#space remove by replace function\n",
    "Str2=Str1.replace(\" \", \"\")\n",
    "print(Str2)"
   ]
  }
 ],
 "metadata": {
  "kernelspec": {
   "display_name": "Python 3 (ipykernel)",
   "language": "python",
   "name": "python3"
  },
  "language_info": {
   "codemirror_mode": {
    "name": "ipython",
    "version": 3
   },
   "file_extension": ".py",
   "mimetype": "text/x-python",
   "name": "python",
   "nbconvert_exporter": "python",
   "pygments_lexer": "ipython3",
   "version": "3.10.8"
  }
 },
 "nbformat": 4,
 "nbformat_minor": 5
}
